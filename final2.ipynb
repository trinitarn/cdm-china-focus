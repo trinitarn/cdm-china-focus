{
 "cells": [
  {
   "cell_type": "code",
   "execution_count": 5,
   "id": "e5cbedea-f554-4eaf-ad1a-8a2d7fc1053f",
   "metadata": {},
   "outputs": [],
   "source": [
    "import pandas as pd"
   ]
  },
  {
   "cell_type": "code",
   "execution_count": 6,
   "id": "c877b7f8-faca-4f79-9a25-369c8580164a",
   "metadata": {},
   "outputs": [],
   "source": [
    "df = pd.read_excel('./dataset2.xlsx')\n",
    "df.to_csv('dataset2.csv', index=False)"
   ]
  },
  {
   "cell_type": "code",
   "execution_count": 7,
   "id": "4dfc17cc-44b4-4036-823e-3f6a20d446d8",
   "metadata": {},
   "outputs": [
    {
     "name": "stdout",
     "output_type": "stream",
     "text": [
      "Registration project title                                                           object\n",
      "Type of CDM project: PA/PoA                                                          object\n",
      "Project classification                                                               object\n",
      "Project type (UNEP DTU)                                                              object\n",
      "Project subtype (UNEP DTU)                                                           object\n",
      "DOE                                                                                  object\n",
      "Start of validation                                                                 float64\n",
      "PA:Initial registration request/PoA:First CPA request                               float64\n",
      "PA:Lastest registration request/PoA:Lastest CPA request                             float64\n",
      "Registered or rejected                                                              float64\n",
      "Website project status                                                               object\n",
      "Amount Of Reductions (PDD ex-ante) per year in CP1 (PoA based on the sum of curr      int64\n",
      "Amount Of Reductions (PDD ex-ante) per year in CP2                                  float64\n",
      "Amount Of Reductions (PDD ex-ante) per year in CP3                                  float64\n",
      "List of host countries (ISO 2)                                                       object\n",
      "UNFCCC region                                                                        object\n",
      "LDC country                                                                          object\n",
      "Country Region                                                                       object\n",
      "First issuance                                                                      float64\n",
      "Lastest issuance                                                                    float64\n",
      "Total CERs issued                                                                     int64\n",
      "Count of issuances of CER                                                             int64\n",
      "Installed capacity (MW elec/thermal)                                                float64\n",
      "Kind of additional revenue                                                           object\n",
      "Total capital investment (USD)                                                      float64\n",
      "Estimated IRR benchmark                                                             float64\n",
      "Reporting date                                                                       object\n",
      "dtype: object\n"
     ]
    }
   ],
   "source": [
    "print(df.dtypes)"
   ]
  },
  {
   "cell_type": "code",
   "execution_count": null,
   "id": "0f7fa828-0047-4f26-a848-8b94e3b4851e",
   "metadata": {},
   "outputs": [],
   "source": []
  }
 ],
 "metadata": {
  "kernelspec": {
   "display_name": "Python 3 (ipykernel)",
   "language": "python",
   "name": "python3"
  },
  "language_info": {
   "codemirror_mode": {
    "name": "ipython",
    "version": 3
   },
   "file_extension": ".py",
   "mimetype": "text/x-python",
   "name": "python",
   "nbconvert_exporter": "python",
   "pygments_lexer": "ipython3",
   "version": "3.10.11"
  }
 },
 "nbformat": 4,
 "nbformat_minor": 5
}
